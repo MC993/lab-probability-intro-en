{
 "cells": [
  {
   "cell_type": "markdown",
   "metadata": {},
   "source": [
    "# Probability"
   ]
  },
  {
   "cell_type": "markdown",
   "metadata": {},
   "source": [
    "## Challenge 1\n",
    "There is a box with 10 white balls, 12 red balls and 8 black balls. Calculate the probability of:\n",
    "* Taking a white ball out.\n",
    "* Taking a white ball on first extraction and a black ball out on second extraction without replacing the first one.\n",
    "* Taking a white ball on first extraction and a black ball out on second extraction replacing the first one.\n",
    "* Taking 3 balls and them being all different colours."
   ]
  },
  {
   "cell_type": "code",
   "execution_count": 1,
   "metadata": {},
   "outputs": [
    {
     "name": "stdout",
     "output_type": "stream",
     "text": [
      "The probability of taking a white ball is: 0.3333333333333333\n",
      "The probability of taking a white ball and then black without replacing is: 0.09195402298850575\n",
      "The probability of taking a white ball and then a black with replacement is: 0.08888888888888888\n",
      "The probability of taking 3 balls all of different colors is: 0.23645320197044337\n"
     ]
    }
   ],
   "source": [
    "# YOUR CODE HERE\n",
    "\n",
    "white_balls = 10\n",
    "red_balls = 12\n",
    "black_balls = 8\n",
    "\n",
    "tot_amount_balls = white_balls + red_balls + black_balls\n",
    "\n",
    "#probability of taking a white ball\n",
    "\n",
    "probability_white = white_balls / tot_amount_balls\n",
    "\n",
    "#probability of taking a white ball and then black without replacing the first one\n",
    "##maths formula P(W,B) = 10/30 * 8/29\n",
    "\n",
    "probability_white_then_black = (white_balls / tot_amount_balls) * (black_balls / (tot_amount_balls -1))\n",
    "\n",
    "#probability of taking a white ball and then black with replacing the first one\n",
    "\n",
    "probability_white_then_black_replaced = (white_balls / tot_amount_balls) * (black_balls / tot_amount_balls)\n",
    "\n",
    "#probability of taking 3 balls all being different colors\n",
    "\n",
    "prob_different_color = (\n",
    "    (white_balls / tot_amount_balls) * (red_balls / (tot_amount_balls-1)) * (black_balls / (tot_amount_balls -2)) +\n",
    "    (white_balls / tot_amount_balls) * (black_balls / (tot_amount_balls-1)) * (red_balls / (tot_amount_balls -2)) +\n",
    "    (red_balls / tot_amount_balls) * (white_balls / (tot_amount_balls-1)) * (black_balls / (tot_amount_balls -2)) +\n",
    "    (red_balls / tot_amount_balls) * (black_balls / (tot_amount_balls-1)) * (white_balls / (tot_amount_balls -2)) +\n",
    "    (black_balls / tot_amount_balls) * (white_balls / (tot_amount_balls-1)) * (red_balls / (tot_amount_balls -2)) +\n",
    "    (black_balls / tot_amount_balls) * (red_balls / (tot_amount_balls-1)) * (white_balls / (tot_amount_balls -2))\n",
    ")\n",
    "\n",
    "#printing the results\n",
    "\n",
    "print(f\"The probability of taking a white ball is: {probability_white}\")\n",
    "print(f\"The probability of taking a white ball and then black without replacing is: {probability_white_then_black}\")\n",
    "print(f\"The probability of taking a white ball and then a black with replacement is: {probability_white_then_black_replaced}\")\n",
    "print(f\"The probability of taking 3 balls all of different colors is: {prob_different_color}\")\n",
    "\n"
   ]
  },
  {
   "cell_type": "markdown",
   "metadata": {},
   "source": [
    "## Challenge 2\n",
    "\n",
    "You want to go on picnic on Saturday. You hate rain, and would know to plan your weekend. To help you make a decision, you gather the following data about rainy days:\n",
    "\n",
    "* 40% of all days are cloudy.\n",
    "* About 50% of cloudy days are rainy. \n",
    "* About 20% of non-cloudy days are rainy.\n",
    "\n",
    "What is the chance of rain during next Saturday?"
   ]
  },
  {
   "cell_type": "code",
   "execution_count": 3,
   "metadata": {},
   "outputs": [
    {
     "name": "stdout",
     "output_type": "stream",
     "text": [
      "The probability of rain on Saturday will be: 32.0\n"
     ]
    }
   ],
   "source": [
    "# YOUR CODE HERE\n",
    "\n",
    "week = 7\n",
    "cloudy_days = (week / 100) * 40\n",
    "rainy_days = (cloudy_days / 100) * 50\n",
    "rainy_non_cloudy = ((week - cloudy_days) / 100 ) *20\n",
    "\n",
    "probability_rain = ((rainy_days + rainy_non_cloudy) / 7) * 100\n",
    "\n",
    "print(f\"The probability of rain on Saturday will be: {probability_rain}\")\n"
   ]
  },
  {
   "cell_type": "markdown",
   "metadata": {},
   "source": [
    "## Challenge 3\n",
    "\n",
    "A and B are events of a probability such that $P(A) = 0.3$, $P(B) = 0.6$ and $P(A \\cap B) = 0.1$\n",
    "\n",
    "Which of the following statements are true?  \n",
    "**HINT: draw a big Venn Diagram by your side**  \n",
    "* $P(\\overline{A}) = 0.7$\n",
    "* $P(A \\cup B) = 0.6$\n",
    "* $P(A \\cap \\overline{B}) = 0.2$\n",
    "* $P(A \\cup \\overline{A}) = 1$  \n",
    "* $P(A \\cap (B \\cup \\overline{B})) = 0.4$\n",
    "* $P(\\overline{A} \\cap \\overline{B}) = 0.3$\n",
    "* $P(\\overline{A \\cap B}) = 0.9$"
   ]
  },
  {
   "cell_type": "code",
   "execution_count": 4,
   "metadata": {},
   "outputs": [
    {
     "name": "stdout",
     "output_type": "stream",
     "text": [
      "Collecting matplotlib-venn\n",
      "  Downloading matplotlib-venn-1.1.2.tar.gz (40 kB)\n",
      "  Installing build dependencies: started\n",
      "  Installing build dependencies: finished with status 'done'\n",
      "  Getting requirements to build wheel: started\n",
      "  Getting requirements to build wheel: finished with status 'done'\n",
      "  Preparing metadata (pyproject.toml): started\n",
      "  Preparing metadata (pyproject.toml): finished with status 'done'\n",
      "Requirement already satisfied: matplotlib in c:\\users\\mirko\\appdata\\local\\programs\\python\\python313\\lib\\site-packages (from matplotlib-venn) (3.10.0)\n",
      "Requirement already satisfied: numpy in c:\\users\\mirko\\appdata\\local\\programs\\python\\python313\\lib\\site-packages (from matplotlib-venn) (2.2.3)\n",
      "Requirement already satisfied: scipy in c:\\users\\mirko\\appdata\\local\\programs\\python\\python313\\lib\\site-packages (from matplotlib-venn) (1.15.2)\n",
      "Requirement already satisfied: contourpy>=1.0.1 in c:\\users\\mirko\\appdata\\local\\programs\\python\\python313\\lib\\site-packages (from matplotlib->matplotlib-venn) (1.3.1)\n",
      "Requirement already satisfied: cycler>=0.10 in c:\\users\\mirko\\appdata\\local\\programs\\python\\python313\\lib\\site-packages (from matplotlib->matplotlib-venn) (0.12.1)\n",
      "Requirement already satisfied: fonttools>=4.22.0 in c:\\users\\mirko\\appdata\\local\\programs\\python\\python313\\lib\\site-packages (from matplotlib->matplotlib-venn) (4.56.0)\n",
      "Requirement already satisfied: kiwisolver>=1.3.1 in c:\\users\\mirko\\appdata\\local\\programs\\python\\python313\\lib\\site-packages (from matplotlib->matplotlib-venn) (1.4.8)\n",
      "Requirement already satisfied: packaging>=20.0 in c:\\users\\mirko\\appdata\\local\\programs\\python\\python313\\lib\\site-packages (from matplotlib->matplotlib-venn) (24.2)\n",
      "Requirement already satisfied: pillow>=8 in c:\\users\\mirko\\appdata\\local\\programs\\python\\python313\\lib\\site-packages (from matplotlib->matplotlib-venn) (11.1.0)\n",
      "Requirement already satisfied: pyparsing>=2.3.1 in c:\\users\\mirko\\appdata\\local\\programs\\python\\python313\\lib\\site-packages (from matplotlib->matplotlib-venn) (3.2.1)\n",
      "Requirement already satisfied: python-dateutil>=2.7 in c:\\users\\mirko\\appdata\\local\\programs\\python\\python313\\lib\\site-packages (from matplotlib->matplotlib-venn) (2.9.0.post0)\n",
      "Requirement already satisfied: six>=1.5 in c:\\users\\mirko\\appdata\\local\\programs\\python\\python313\\lib\\site-packages (from python-dateutil>=2.7->matplotlib->matplotlib-venn) (1.17.0)\n",
      "Building wheels for collected packages: matplotlib-venn\n",
      "  Building wheel for matplotlib-venn (pyproject.toml): started\n",
      "  Building wheel for matplotlib-venn (pyproject.toml): finished with status 'done'\n",
      "  Created wheel for matplotlib-venn: filename=matplotlib_venn-1.1.2-py3-none-any.whl size=45405 sha256=8639e0ee572f85ddaa0ae079ddb35cc6a9fc6285ea20f42017e61776d71d0893\n",
      "  Stored in directory: c:\\users\\mirko\\appdata\\local\\pip\\cache\\wheels\\d1\\5f\\e6\\771479559f992b8398265ebf61f8a3d33ca0b8f75552e06ad2\n",
      "Successfully built matplotlib-venn\n",
      "Installing collected packages: matplotlib-venn\n",
      "Successfully installed matplotlib-venn-1.1.2\n"
     ]
    },
    {
     "data": {
      "image/png": "[encoded data removed]",
      "text/plain": [
       "<Figure size 600x600 with 1 Axes>"
      ]
     },
     "metadata": {},
     "output_type": "display_data"
    }
   ],
   "source": [
    "# YOUR CODE HERE\n",
    "!pip install matplotlib-venn\n",
    "\n",
    "import matplotlib.pyplot as plt\n",
    "from matplotlib_venn import venn2\n",
    "\n",
    "#probabilities\n",
    "\n",
    "P_A = 0.3\n",
    "P_B = 0.6\n",
    "P_A_and_B = 0.1\n",
    "\n",
    "#test events\n",
    "\n",
    "P_not_A = 1 - P_A\n",
    "P_A_or_B = P_A + P_B - P_A_and_B\n",
    "P_A_and_not_B = P_A - P_A_and_B\n",
    "P_A_or_not_A = 1\n",
    "P_A_and_B_or_not_B = P_A\n",
    "P_not_A_and_not_B = 1 - P_A_or_B\n",
    "P_not_A_or_not_B = 1 - P_A_and_B\n",
    "\n",
    "# Plotting the Venn diagram\n",
    "plt.figure(figsize=(6,6))\n",
    "venn = venn2(subsets=(P_A - P_A_and_B, P_B - P_A_and_B, P_A_and_B), set_labels=('A', 'B'))\n",
    "\n",
    "# Show the Venn diagram\n",
    "plt.title(\"Venn Diagram for Challenge 3\")\n",
    "plt.show()"
   ]
  },
  {
   "cell_type": "markdown",
   "metadata": {},
   "source": [
    "## Challenge 4\n",
    "\n",
    " * If someone flies to China, the probability of getting Covid is 1%  \n",
    " * If someone flies to Italy, the probability of getting Covid is 20%  \n",
    "\n",
    "I roll 1 dice with numbers 1, 2, 3, 4, 5, 6:  \n",
    " * If 1: I fly to Italy\n",
    " * If not 1: I fly to China\n",
    "\n",
    "During my trip, I got Covid. What is the probability that I flew to China?"
   ]
  },
  {
   "cell_type": "code",
   "execution_count": 8,
   "metadata": {},
   "outputs": [
    {
     "name": "stdout",
     "output_type": "stream",
     "text": [
      "Probability I got Covid in China: 0.7142857142857143\n"
     ]
    }
   ],
   "source": [
    "# YOUR CODE HERE\n",
    "\n",
    "probability_flying_to_italy = (1/6) *100\n",
    "probability_flying_to_china = (5/6) *100\n",
    "probability_covid_china = 0.1\n",
    "probability_covid_italy = 0.2\n",
    "\n",
    "p_covid = (probability_covid_china * probability_flying_to_china) + (probability_covid_italy * probability_flying_to_italy)\n",
    "\n",
    "#Bayes Theorem to test likelyhood that I'm in China\n",
    "p_travel_to_china = (probability_covid_china * probability_flying_to_china) / p_covid\n",
    "\n",
    "print(f\"Probability I got Covid in China: {p_travel_to_china}\")\n"
   ]
  },
  {
   "cell_type": "markdown",
   "metadata": {},
   "source": [
    "## BONUS\n",
    "\n",
    "You roll 2 dice. What is the probability that the sum of the numbers is 7? And 8? And 9? Then simulate 10000 times and draw a countplot."
   ]
  },
  {
   "cell_type": "markdown",
   "metadata": {},
   "source": [
    "your explanation here"
   ]
  },
  {
   "cell_type": "code",
   "execution_count": null,
   "metadata": {},
   "outputs": [],
   "source": [
    "# YOUR CODE HERE"
   ]
  }
 ],
 "metadata": {
  "kernelspec": {
   "display_name": "Python 3 (ipykernel)",
   "language": "python",
   "name": "python3"
  },
  "language_info": {
   "codemirror_mode": {
    "name": "ipython",
    "version": 3
   },
   "file_extension": ".py",
   "mimetype": "text/x-python",
   "name": "python",
   "nbconvert_exporter": "python",
   "pygments_lexer": "ipython3",
   "version": "3.13.2"
  },
  "toc": {
   "base_numbering": 1,
   "nav_menu": {},
   "number_sections": false,
   "sideBar": true,
   "skip_h1_title": false,
   "title_cell": "Table of Contents",
   "title_sidebar": "Contents",
   "toc_cell": false,
   "toc_position": {
    "height": "calc(100% - 180px)",
    "left": "10px",
    "top": "150px",
    "width": "296.475px"
   },
   "toc_section_display": true,
   "toc_window_display": false
  },
  "varInspector": {
   "cols": {
    "lenName": 16,
    "lenType": 16,
    "lenVar": 40
   },
   "kernels_config": {
    "python": {
     "delete_cmd_postfix": "",
     "delete_cmd_prefix": "del ",
     "library": "var_list.py",
     "varRefreshCmd": "print(var_dic_list())"
    },
    "r": {
     "delete_cmd_postfix": ") ",
     "delete_cmd_prefix": "rm(",
     "library": "var_list.r",
     "varRefreshCmd": "cat(var_dic_list()) "
    }
   },
   "types_to_exclude": [
    "module",
    "function",
    "builtin_function_or_method",
    "instance",
    "_Feature"
   ],
   "window_display": false
  }
 },
 "nbformat": 4,
 "nbformat_minor": 4
}
